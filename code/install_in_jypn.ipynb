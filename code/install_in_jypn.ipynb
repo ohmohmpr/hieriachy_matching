{
 "cells": [
  {
   "cell_type": "code",
   "execution_count": 1,
   "id": "4987b489-c6c0-4ed5-9d1b-d51bc6f54ebb",
   "metadata": {
    "tags": []
   },
   "outputs": [
    {
     "name": "stdout",
     "output_type": "stream",
     "text": [
      "Processing /home/ohmpr/master_bonn/Modules/5th_semester/adv_algo/hieriachy_matching/code\n",
      "  Installing build dependencies ... \u001b[?25ldone\n",
      "\u001b[?25h  Getting requirements to build wheel ... \u001b[?25ldone\n",
      "\u001b[?25h  Preparing metadata (pyproject.toml) ... \u001b[?25ldone\n",
      "\u001b[?25hBuilding wheels for collected packages: hierarchical_grouping_adv_gis\n",
      "  Building wheel for hierarchical_grouping_adv_gis (pyproject.toml) ... \u001b[?25ldone\n",
      "\u001b[?25h  Created wheel for hierarchical_grouping_adv_gis: filename=hierarchical_grouping_adv_gis-0.0.1-py3-none-any.whl size=4450 sha256=59487b5282f5a297e929b21a68f39995a0fb110399160ff4d5a3e20e5f91ef83\n",
      "  Stored in directory: /tmp/pip-ephem-wheel-cache-7wti2ds2/wheels/ad/04/24/41445e456228f168fe069c17f3d91d1d951ce1e7a2007eb347\n",
      "Successfully built hierarchical_grouping_adv_gis\n",
      "Installing collected packages: hierarchical_grouping_adv_gis\n",
      "Successfully installed hierarchical_grouping_adv_gis-0.0.1\n"
     ]
    }
   ],
   "source": [
    "!pip install ."
   ]
  },
  {
   "cell_type": "code",
   "execution_count": null,
   "id": "1d32cb2f-3faf-405a-8d39-49fd54512eb4",
   "metadata": {},
   "outputs": [],
   "source": []
  }
 ],
 "metadata": {
  "kernelspec": {
   "display_name": "Python 3 (ipykernel)",
   "language": "python",
   "name": "python3"
  },
  "language_info": {
   "codemirror_mode": {
    "name": "ipython",
    "version": 3
   },
   "file_extension": ".py",
   "mimetype": "text/x-python",
   "name": "python",
   "nbconvert_exporter": "python",
   "pygments_lexer": "ipython3",
   "version": "3.10.13"
  }
 },
 "nbformat": 4,
 "nbformat_minor": 5
}
