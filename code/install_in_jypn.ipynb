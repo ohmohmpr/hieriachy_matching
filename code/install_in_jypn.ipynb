{
 "cells": [
  {
   "cell_type": "code",
   "execution_count": 1,
   "id": "4987b489-c6c0-4ed5-9d1b-d51bc6f54ebb",
   "metadata": {
    "tags": []
   },
   "outputs": [
    {
     "name": "stdout",
     "output_type": "stream",
     "text": [
      "Processing /Users/panyr/Master_Bonn/Modules/5th_semester/ADV_GIS/code\n",
      "  Installing build dependencies ... \u001b[?25ldone\n",
      "\u001b[?25h  Getting requirements to build wheel ... \u001b[?25ldone\n",
      "\u001b[?25h  Preparing metadata (pyproject.toml) ... \u001b[?25ldone\n",
      "\u001b[?25hBuilding wheels for collected packages: hierarchical_grouping_adv_gis\n",
      "  Building wheel for hierarchical_grouping_adv_gis (pyproject.toml) ... \u001b[?25ldone\n",
      "\u001b[?25h  Created wheel for hierarchical_grouping_adv_gis: filename=hierarchical_grouping_adv_gis-0.0.1-py3-none-any.whl size=3876 sha256=fb2e601b2e868d4fe41d0196b9fbd88a7d92f0b4fdd191a7f42ca5f9e2b9228f\n",
      "  Stored in directory: /private/var/folders/m4/g0zxmqss4q50xhq4vpywx80r0000gp/T/pip-ephem-wheel-cache-47kwvacp/wheels/49/5c/9c/b7fbed262e402b339213b6d1bc3b829b4ebc5a1ec569ea56c3\n",
      "Successfully built hierarchical_grouping_adv_gis\n",
      "Installing collected packages: hierarchical_grouping_adv_gis\n",
      "  Attempting uninstall: hierarchical_grouping_adv_gis\n",
      "    Found existing installation: hierarchical_grouping_adv_gis 0.0.1\n",
      "    Uninstalling hierarchical_grouping_adv_gis-0.0.1:\n",
      "      Successfully uninstalled hierarchical_grouping_adv_gis-0.0.1\n",
      "Successfully installed hierarchical_grouping_adv_gis-0.0.1\n"
     ]
    }
   ],
   "source": [
    "!pip install ."
   ]
  },
  {
   "cell_type": "code",
   "execution_count": null,
   "id": "1d32cb2f-3faf-405a-8d39-49fd54512eb4",
   "metadata": {},
   "outputs": [],
   "source": []
  }
 ],
 "metadata": {
  "kernelspec": {
   "display_name": "Python 3 (ipykernel)",
   "language": "python",
   "name": "python3"
  },
  "language_info": {
   "codemirror_mode": {
    "name": "ipython",
    "version": 3
   },
   "file_extension": ".py",
   "mimetype": "text/x-python",
   "name": "python",
   "nbconvert_exporter": "python",
   "pygments_lexer": "ipython3",
   "version": "3.9.12"
  }
 },
 "nbformat": 4,
 "nbformat_minor": 5
}
