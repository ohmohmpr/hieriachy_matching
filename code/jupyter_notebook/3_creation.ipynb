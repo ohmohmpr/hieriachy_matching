{
 "cells": [
  {
   "cell_type": "code",
   "execution_count": 1,
   "id": "df72acbd-ff5a-4a33-a9e8-3c20cfabebff",
   "metadata": {
    "tags": []
   },
   "outputs": [],
   "source": [
    "# dev mode\n",
    "import sys\n",
    "from typing import List, Tuple\n",
    "\n",
    "# add path\n",
    "sys.path.insert(0, \"../../code/src/\")\n",
    "\n",
    "# interactively load the module\n",
    "%load_ext autoreload\n",
    "%autoreload 2"
   ]
  },
  {
   "cell_type": "code",
   "execution_count": 2,
   "id": "0a9da52f-774c-44d1-bb93-81af2abba332",
   "metadata": {
    "tags": []
   },
   "outputs": [],
   "source": [
    "from hierarchical_grouping.file_reader import BinaryPolygonFileReader, test_load_module\n",
    "from hierarchical_grouping.utils import plot_two_polys\n",
    "import shapely.plotting\n",
    "import networkx as nx\n",
    "\n",
    "'''\n",
    "    Name,            number of sets\n",
    "    data_auerberg,              796\n",
    "    data_dottendorf,            871\n",
    "    data_duisdorf,             2127\n",
    "    data_endenich,             1060\n",
    "    data_zentrum,               160\n",
    "'''\n",
    "file_path = \"../data/data_auerberg\"\n",
    "reader = BinaryPolygonFileReader(file_path)"
   ]
  },
  {
   "cell_type": "code",
   "execution_count": 3,
   "id": "db5f740f-8af6-4f3e-9b9e-57f493839ca5",
   "metadata": {
    "scrolled": true,
    "tags": []
   },
   "outputs": [
    {
     "name": "stdout",
     "output_type": "stream",
     "text": [
      "set_id:  0\n",
      "Length polys1:  2\n",
      "Length polys2:  28\n"
     ]
    }
   ],
   "source": [
    "set_id, polys1, polys2 = reader.read_next_set()\n",
    "print(\"set_id: \", set_id)\n",
    "print(\"Length polys1: \", len(polys1))\n",
    "print(\"Length polys2: \", len(polys2))"
   ]
  },
  {
   "cell_type": "code",
   "execution_count": 4,
   "id": "11e980c8-af19-475c-bb67-0dfa24184fbc",
   "metadata": {},
   "outputs": [],
   "source": [
    "set_id, polys1, polys2 = reader[7] \n",
    "\n",
    "# Scatter\n",
    "# 3, 116, 194\n",
    "# Line\n",
    "# 4, 8, 15, 19, 26, 31(small leaves), 38, 43, 47, 48, 66, 76, 104, 105, 131, 141, 142, 173, 187\n",
    "# Form a circle\n",
    "# 62, 64, 119, 133, 134, 143, 77, 86, 92, 112, 143, 158, 159, 177\n",
    "# Complicated \n",
    "# 0, 18, 37, 138, 185"
   ]
  },
  {
   "cell_type": "markdown",
   "id": "957c5b5f-8347-4d26-a0c7-229e1323ea59",
   "metadata": {
    "tags": []
   },
   "source": [
    "# 1. Edges generation/initialization\n",
    "[networkx](https://networkx.org/documentation/stable/tutorial.html)  \n",
    "[Polygon](https://shapely.readthedocs.io/en/stable/reference/shapely.Polygon.html)  \n"
   ]
  },
  {
   "cell_type": "markdown",
   "id": "5effad2b-607d-49c1-91a3-216f82d3481f",
   "metadata": {
    "tags": []
   },
   "source": [
    "## 1.1 Centroid"
   ]
  },
  {
   "cell_type": "code",
   "execution_count": 5,
   "id": "cb3cf58f-c20f-42bc-ba7e-e0c0cd88fb50",
   "metadata": {},
   "outputs": [],
   "source": [
    "# interesting propreties of a polygon. \n",
    "# x, y coordinate don't help at all\n",
    "# Area -> good"
   ]
  },
  {
   "cell_type": "markdown",
   "id": "8439fb99-2cbf-48a2-874c-51eaa5dc579a",
   "metadata": {},
   "source": [
    "### 1.1.1 Check if two polygons are next to each others.   "
   ]
  },
  {
   "cell_type": "code",
   "execution_count": 6,
   "id": "3f5c0e13-225b-42f1-8211-109008937f01",
   "metadata": {},
   "outputs": [],
   "source": [
    "def check_cross(polys):\n",
    "    for i in range(len(polys)):\n",
    "        j = i + 1\n",
    "        for j in range(j, len(polys)):\n",
    "            print(\"crossed\",i,\"and\", j,\"=\",  polys[i].intersects(polys[j]))\n",
    "            if polys[i].intersects(polys[j]):\n",
    "                multi_poly = polys[i] | polys[j]\n",
    "                print(\"centroid\",multi_poly.centroid)"
   ]
  },
  {
   "cell_type": "code",
   "execution_count": 7,
   "id": "79fe407a-dad2-4ae8-917b-c059539f5e7e",
   "metadata": {},
   "outputs": [
    {
     "name": "stdout",
     "output_type": "stream",
     "text": [
      "crossed 0 and 1 = True\n",
      "centroid POINT (363450.3905081712 5624824.868752691)\n",
      "crossed 0 and 2 = False\n",
      "crossed 1 and 2 = True\n",
      "centroid POINT (363449.9326202091 5624826.703924182)\n"
     ]
    }
   ],
   "source": [
    "# check_cross(polys1)\n",
    "check_cross(polys2)\n",
    "# calculate unclosed polygon is not fun.\n",
    "# can not calculate two polygon if they are not next to each others."
   ]
  },
  {
   "cell_type": "markdown",
   "id": "54e9f950-19f2-4aa0-8b9f-9dc93db85d11",
   "metadata": {},
   "source": [
    "### 1.1.1 Compute the centroid of the node.   \n",
    "principle/formula behind it?"
   ]
  },
  {
   "cell_type": "code",
   "execution_count": 8,
   "id": "48f062a4-12b4-46f5-924e-71745e134351",
   "metadata": {
    "tags": []
   },
   "outputs": [],
   "source": [
    "# METHOD_TYPE_NAME -> function\n",
    "# TYPE_NAME -> var\n",
    "def find_polys_smallest_dist_pairs(polys: List)-> tuple((List, List, List)):\n",
    "    smallest_dist = float('inf')\n",
    "    poly_i = None\n",
    "    poly_j = None\n",
    "    merged_i_j = None\n",
    "\n",
    "    if len(polys) < 2:\n",
    "        return poly_i, poly_j, merged_i_j \n",
    "        # raise ValueError(\"can not compared when the length is less than 2.\")\n",
    "\n",
    "    for i in range(len(polys)):\n",
    "        j = i + 1\n",
    "        for j in range(j, len(polys)):\n",
    "            if polys[i].intersects(polys[j]):\n",
    "                dist_centroid = polys[i].centroid.distance(polys[j].centroid)\n",
    "                if dist_centroid < smallest_dist:\n",
    "                    smallest_dist = dist_centroid\n",
    "                    # print(\"dist\", smallest_dist)\n",
    "                    poly_i = polys[i]\n",
    "                    poly_j = polys[j]\n",
    "                    merged_i_j = polys[i] | polys[j]\n",
    "\n",
    "    if merged_i_j == None and poly_i == None and poly_j == None:\n",
    "        for i in range(len(polys)):\n",
    "            j = i + 1\n",
    "            for j in range(j, len(polys)):\n",
    "                dist_centroid = polys[i].centroid.distance(polys[j].centroid)\n",
    "                if dist_centroid < smallest_dist:\n",
    "                    smallest_dist = dist_centroid\n",
    "                    # print(\"dist\", smallest_dist)\n",
    "                    poly_i = polys[i]\n",
    "                    poly_j = polys[j]\n",
    "                    merged_i_j = polys[i] | polys[j]\n",
    "    \n",
    "    return poly_i, poly_j, merged_i_j"
   ]
  },
  {
   "cell_type": "code",
   "execution_count": 9,
   "id": "e06db05d-f91e-4243-9e68-c496149b9ea0",
   "metadata": {},
   "outputs": [],
   "source": [
    "poly_i, poly_j, merged_i_j = find_polys_smallest_dist_pairs(polys1)\n",
    "if not(poly_i == None or poly_j == None or merged_i_j == None):\n",
    "    polys1.remove(poly_i)\n",
    "    polys1.remove(poly_j)\n",
    "    polys1.append(merged_i_j)\n",
    "    print(len(polys1))"
   ]
  },
  {
   "cell_type": "markdown",
   "id": "8d90a521-9451-4287-9ddb-b867c0db6a27",
   "metadata": {},
   "source": [
    "## 1.2 Init Graph and Nodes."
   ]
  },
  {
   "cell_type": "code",
   "execution_count": 10,
   "id": "bf255a7f-e61d-4520-b973-af1a0416f561",
   "metadata": {
    "tags": []
   },
   "outputs": [],
   "source": [
    "import networkx as nx\n",
    "# Initialize G1 and G2\n",
    "# G1 = nx.Graph()\n",
    "# G2 = nx.Graph()"
   ]
  },
  {
   "cell_type": "code",
   "execution_count": 11,
   "id": "baa2d7ee-1dad-4d48-99ad-7d007768ad46",
   "metadata": {},
   "outputs": [],
   "source": [
    "# ADD\n",
    "# G1.add_nodes_from([(poly_i, {\"color\": \"red\"}), (poly_j, {\"color\": \"green\"})])\n",
    "# G1.add_nodes_from([(merged_i_j, {\"color\": \"red\"})])\n",
    "# G1.add_edge(merged_i_j, poly_i)\n",
    "# G1.add_edge(merged_i_j, poly_j)\n"
   ]
  },
  {
   "cell_type": "code",
   "execution_count": 12,
   "id": "697c541b-060e-4127-8e4e-3a481a24e7bd",
   "metadata": {},
   "outputs": [],
   "source": [
    "# G1.number_of_nodes()\n",
    "# G1.number_of_edges() "
   ]
  },
  {
   "cell_type": "markdown",
   "id": "95ca43db-897e-4d0d-aaee-7c0d7eed157b",
   "metadata": {
    "tags": []
   },
   "source": [
    "## 1.4 Function to calculate"
   ]
  },
  {
   "cell_type": "code",
   "execution_count": 13,
   "id": "6a4838ba-cb11-4c51-947b-9726dbf651bf",
   "metadata": {},
   "outputs": [],
   "source": [
    "import matplotlib.pyplot as plt"
   ]
  },
  {
   "cell_type": "code",
   "execution_count": 14,
   "id": "f1a41b7b-638e-4599-9286-3bf5d101fe20",
   "metadata": {},
   "outputs": [],
   "source": [
    "def algorithm_1(polys: List)-> nx.classes.graph.Graph:\n",
    "    # it would be a good idea if we can use pointer here for G.\n",
    "    G = nx.Graph()\n",
    "\n",
    "    if (len(polys) == 0):\n",
    "        return G\n",
    "    if (len(polys) == 1):\n",
    "        G.add_nodes_from([(polys[0])])\n",
    "        return G\n",
    "\n",
    "    while (len(polys) >= 2):\n",
    "        poly_i, poly_j, merged_i_j = find_polys_smallest_dist_pairs(polys)\n",
    "\n",
    "        polys.remove(poly_i)\n",
    "        polys.remove(poly_j)\n",
    "        polys.append(merged_i_j)\n",
    "\n",
    "        G.add_nodes_from([(poly_i), (poly_j)])\n",
    "        G.add_nodes_from([(merged_i_j)])\n",
    "        G.add_edge(merged_i_j, poly_i)\n",
    "        G.add_edge(merged_i_j, poly_j)\n",
    "\n",
    "    return G"
   ]
  },
  {
   "cell_type": "code",
   "execution_count": 15,
   "id": "d0edc639-7308-4979-9074-b93110900548",
   "metadata": {},
   "outputs": [],
   "source": [
    "set_id, polys1, polys2 = reader[7] \n",
    "\n",
    "# Scatter\n",
    "# 3, 116, 194\n",
    "# Line\n",
    "# 4, 8, 15, 19, 26, 31(small leaves), 38, 43, 47, 48, 66, 76, 104, 105, 131, 141, 142, 173, 187\n",
    "# Form a circle\n",
    "# 62, 64, 119, 133, 134, 143, 77, 86, 92, 112, 143, 158, 159, 177\n",
    "# Complicated \n",
    "# 0, 18, 37, 138, 185"
   ]
  },
  {
   "cell_type": "code",
   "execution_count": 16,
   "id": "0907639a-2380-4fee-80c1-f173fcbacfbc",
   "metadata": {
    "tags": []
   },
   "outputs": [
    {
     "data": {
      "image/png": "[encoded data removed]",
      "text/plain": [
       "<Figure size 1200x600 with 2 Axes>"
      ]
     },
     "metadata": {},
     "output_type": "display_data"
    }
   ],
   "source": [
    "plot_two_polys(polys1, polys2, set_id)"
   ]
  },
  {
   "cell_type": "code",
   "execution_count": 17,
   "id": "48b7d1d8-ec18-47ea-99c8-9a4827279cc4",
   "metadata": {},
   "outputs": [
    {
     "data": {
      "image/png": "[encoded data removed]",
      "text/plain": [
       "<Figure size 640x480 with 1 Axes>"
      ]
     },
     "metadata": {},
     "output_type": "display_data"
    }
   ],
   "source": [
    "G1 = algorithm_1(polys1)\n",
    "nx.draw(G1)"
   ]
  },
  {
   "cell_type": "code",
   "execution_count": 18,
   "id": "b24f3e13-3234-41a0-9b83-a2f50301d89e",
   "metadata": {},
   "outputs": [
    {
     "data": {
      "image/png": "[encoded data removed]",
      "text/plain": [
       "<Figure size 640x480 with 1 Axes>"
      ]
     },
     "metadata": {},
     "output_type": "display_data"
    }
   ],
   "source": [
    "G2 = algorithm_1(polys2)\n",
    "nx.draw(G2)"
   ]
  },
  {
   "cell_type": "code",
   "execution_count": 19,
   "id": "b2a0bb66-6602-487a-bc4d-f8d1020d11f3",
   "metadata": {},
   "outputs": [
    {
     "data": {
      "text/plain": [
       "<networkx.classes.graph.Graph at 0x7b15407f9390>"
      ]
     },
     "execution_count": 19,
     "metadata": {},
     "output_type": "execute_result"
    }
   ],
   "source": [
    "G1 "
   ]
  },
  {
   "cell_type": "markdown",
   "id": "e8c10f6b-c542-4f7c-a971-ae10b2cd5526",
   "metadata": {},
   "source": [
    "# test"
   ]
  },
  {
   "cell_type": "code",
   "execution_count": 20,
   "id": "1579b950-dd43-4d5b-baf2-73fa4589be14",
   "metadata": {},
   "outputs": [],
   "source": [
    "import time"
   ]
  },
  {
   "cell_type": "code",
   "execution_count": 48,
   "id": "bfb71788-d74e-47cf-a636-b2c2f2447ce8",
   "metadata": {
    "tags": []
   },
   "outputs": [],
   "source": [
    "'''\n",
    "    Name,            number of sets\n",
    "    data_auerberg,              796\n",
    "    data_dottendorf,            871\n",
    "    data_duisdorf,             2127\n",
    "    data_endenich,             1060\n",
    "    data_zentrum,               160\n",
    "'''\n",
    "file_path = \"../data/data_auerberg\"\n",
    "# file_path = \"../data/data_dottendorf\"\n",
    "# file_path = \"../data/data_duisdorf\"\n",
    "# file_path = \"../data/data_endenich\"\n",
    "# file_path = \"../data/data_zentrum\"\n",
    "reader = BinaryPolygonFileReader(file_path)"
   ]
  },
  {
   "cell_type": "code",
   "execution_count": 49,
   "id": "06a24ada-ad94-467e-b39f-4337d1ca9dc9",
   "metadata": {
    "tags": []
   },
   "outputs": [],
   "source": [
    "# set_id, polys1, polys2 = reader.read_next_set()"
   ]
  },
  {
   "cell_type": "code",
   "execution_count": 50,
   "id": "a6cfabf7-eebe-4344-a625-aeecc5379e2b",
   "metadata": {},
   "outputs": [
    {
     "name": "stdout",
     "output_type": "stream",
     "text": [
      "set id:  795\n",
      "Finish\n",
      "1.2651145458221436\n"
     ]
    }
   ],
   "source": [
    "# Save timestamp\n",
    "start = time.time()\n",
    "while True:\n",
    "    try:\n",
    "        set_id, polys1, polys2 = reader.read_next_set()\n",
    "        G1 = algorithm_1(polys1)\n",
    "        G2 = algorithm_1(polys2)\n",
    "    except:\n",
    "        if G1 == None or G2 == None:\n",
    "            print(\"last set id: \",set_id)\n",
    "            print(\"Error\")\n",
    "            break\n",
    "        else:\n",
    "            print(\"last set id: \",set_id)\n",
    "            print(\"Finish\")\n",
    "            break\n",
    "        break\n",
    "# Save timestamp\n",
    "end = time.time()\n",
    "\n",
    "print(end - start)"
   ]
  },
  {
   "cell_type": "code",
   "execution_count": null,
   "id": "f984e8fa-fc5c-4d06-8519-7135692159ae",
   "metadata": {},
   "outputs": [],
   "source": [
    "# data_auerberg   time used: 1.265\n",
    "# data_dottendorf time used: 1.044\n",
    "# data_duisdorf   time used: 3.367\n",
    "# data_endenich   time used: 4.246\n",
    "# data_zentrum    time used: 16.890"
   ]
  }
 ],
 "metadata": {
  "kernelspec": {
   "display_name": "Python 3 (ipykernel)",
   "language": "python",
   "name": "python3"
  },
  "language_info": {
   "codemirror_mode": {
    "name": "ipython",
    "version": 3
   },
   "file_extension": ".py",
   "mimetype": "text/x-python",
   "name": "python",
   "nbconvert_exporter": "python",
   "pygments_lexer": "ipython3",
   "version": "3.10.13"
  }
 },
 "nbformat": 4,
 "nbformat_minor": 5
}
